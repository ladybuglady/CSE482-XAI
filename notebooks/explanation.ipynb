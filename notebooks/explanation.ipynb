{
 "cells": [
  {
   "attachments": {},
   "cell_type": "markdown",
   "metadata": {},
   "source": [
    "### Trying to figure out why SHAP highlights specific regions - a study"
   ]
  },
  {
   "cell_type": "code",
   "execution_count": null,
   "metadata": {},
   "outputs": [],
   "source": [
    "# Imports\n",
    "import numpy as np\n",
    "import pandas as pd\n",
    "import seaborn as sns\n",
    "import os\n",
    "import json\n",
    "import matplotlib.pyplot as plt\n",
    "import seaborn.objects as so\n",
    "from matplotlib.ticker import MultipleLocator\n",
    "from decomposer import decompose\n",
    "\n",
    "# Load Data\n",
    "shap_vals = np.load(\"first_recording_shap_vals.npy\")\n",
    "shap_vals = shap_vals[0] # IM JUST GONNA ASSUME THAT BOTH THE LEADS ARE JUST REPEATED IN EACH ROW ):\n",
    "shap_vals = shap_vals.reshape((2, 5000))\n",
    "print(shap_vals.shape)\n",
    "shaps_df = pd.DataFrame(shap_vals, index=['Lead1', 'Lead2'])\n",
    "\n",
    "shaps_df"
   ]
  }
 ],
 "metadata": {
  "kernelspec": {
   "display_name": "momo",
   "language": "python",
   "name": "python3"
  },
  "language_info": {
   "name": "python",
   "version": "3.9.16"
  },
  "orig_nbformat": 4
 },
 "nbformat": 4,
 "nbformat_minor": 2
}
