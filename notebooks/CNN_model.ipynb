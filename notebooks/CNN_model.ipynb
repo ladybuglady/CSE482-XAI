{
  "cells": [
    {
      "cell_type": "code",
      "execution_count": null,
      "metadata": {
        "colab": {
          "base_uri": "https://localhost:8080/"
        },
        "id": "gMGozShGtyxB",
        "outputId": "b6f71fa3-7a4a-4c0f-8e16-677284d1f627"
      },
      "outputs": [],
      "source": [
        "from google.colab import drive\n",
        "drive.mount('/content/drive')"
      ]
    },
    {
      "cell_type": "code",
      "execution_count": 3,
      "metadata": {
        "id": "G0o3Ic7eeLwj"
      },
      "outputs": [],
      "source": [
        "import numpy as np\n",
        "import matplotlib.pyplot as plt\n",
        "from PIL import Image\n",
        "import os, os.path\n",
        "import torch\n",
        "import torch.nn as nn\n",
        "from torch.utils.data import Dataset,DataLoader\n",
        "from torchvision import transforms,models\n",
        "from tqdm import tqdm_notebook as tqdm"
      ]
    },
    {
      "cell_type": "code",
      "execution_count": null,
      "metadata": {},
      "outputs": [],
      "source": []
    },
    {
      "cell_type": "code",
      "execution_count": 6,
      "metadata": {
        "id": "o1VlzxxLrjOc"
      },
      "outputs": [],
      "source": [
        "def imagetensor(imagedir):\n",
        "  X = np.zeros((301, 1200, 15000))\n",
        "  for i, im in tqdm(enumerate(os.listdir(imagedir))):\n",
        "    image= Image.open(imagedir + im)\n",
        "    image= image.convert('L')\n",
        "    image= np.array(image, dtype= float)/255\n",
        "    X[i] = image\n",
        "    print(i)\n",
        "  return X"
      ]
    },
    {
      "cell_type": "code",
      "execution_count": null,
      "metadata": {
        "colab": {
          "base_uri": "https://localhost:8080/"
        },
        "id": "8wxr488SrkhP",
        "outputId": "134051c7-f43d-4ecd-c2b1-4d37b35ae1cb"
      },
      "outputs": [],
      "source": [
        "ecg_afib_numpy = imagetensor(\"/content/drive/MyDrive/ECG_PLOT_IMAGES/AFIB/\")"
      ]
    },
    {
      "cell_type": "code",
      "execution_count": null,
      "metadata": {
        "colab": {
          "base_uri": "https://localhost:8080/"
        },
        "id": "sE2hDR5BGME9",
        "outputId": "5d678227-80ed-489d-bf14-e05b0e02b59a"
      },
      "outputs": [],
      "source": [
        "ecg_control_numpy = imagetensor(\"/content/drive/MyDrive/ECG_PLOT_IMAGES/CONTROL/\")"
      ]
    },
    {
      "cell_type": "code",
      "execution_count": 11,
      "metadata": {
        "id": "bCvbR3CK4TqW"
      },
      "outputs": [],
      "source": [
        "class ResidualBlock(nn.Module):\n",
        "    def __init__(self,in_channels,out_channels,stride=1,kernel_size=3,padding=1,bias=False):\n",
        "        super(ResidualBlock,self).__init__()\n",
        "        self.cnn1 =nn.Sequential(\n",
        "            nn.Conv2d(in_channels,out_channels,kernel_size,stride,padding,bias=False),\n",
        "            nn.BatchNorm2d(out_channels),\n",
        "            nn.ReLU(True)\n",
        "        )\n",
        "        self.cnn2 = nn.Sequential(\n",
        "            nn.Conv2d(out_channels,out_channels,kernel_size,1,padding,bias=False),\n",
        "            nn.BatchNorm2d(out_channels)\n",
        "        )\n",
        "        if stride != 1 or in_channels != out_channels:\n",
        "            self.shortcut = nn.Sequential(\n",
        "                nn.Conv2d(in_channels,out_channels,kernel_size=1,stride=stride,bias=False),\n",
        "                nn.BatchNorm2d(out_channels)\n",
        "            )\n",
        "        else:\n",
        "            self.shortcut = nn.Sequential()\n",
        "            \n",
        "    def forward(self,x):\n",
        "        residual = x\n",
        "        x = self.cnn1(x)\n",
        "        x = self.cnn2(x)\n",
        "        x += self.shortcut(residual)\n",
        "        x = nn.ReLU(True)(x)\n",
        "        return x"
      ]
    },
    {
      "cell_type": "code",
      "execution_count": 38,
      "metadata": {
        "id": "FmoGt58F2r9i"
      },
      "outputs": [],
      "source": [
        "class ResNet18(nn.Module):\n",
        "    def __init__(self):\n",
        "        super(ResNet18,self).__init__()\n",
        "        \n",
        "        self.block1 = nn.Sequential(\n",
        "            nn.Conv2d(1,64,kernel_size=2,stride=2,padding=3,bias=False),\n",
        "            nn.BatchNorm2d(64),\n",
        "            nn.ReLU(True)\n",
        "        )\n",
        "        \n",
        "        self.block2 = nn.Sequential(\n",
        "            nn.MaxPool2d(1,1),\n",
        "            ResidualBlock(64,64),\n",
        "            ResidualBlock(64,64,2)\n",
        "        )\n",
        "        \n",
        "        self.block3 = nn.Sequential(\n",
        "            ResidualBlock(64,128),\n",
        "            ResidualBlock(128,128,2)\n",
        "        )\n",
        "        \n",
        "        self.block4 = nn.Sequential(\n",
        "            ResidualBlock(128,256),\n",
        "            ResidualBlock(256,256,2)\n",
        "        )\n",
        "        self.block5 = nn.Sequential(\n",
        "            ResidualBlock(256,512),\n",
        "            ResidualBlock(512,512,2)\n",
        "        )\n",
        "        \n",
        "        self.avgpool = nn.AvgPool2d(2)\n",
        "\n",
        "        self.fc3 = nn.Linear(512,7)\n",
        "        self.fc4 = nn.Linear(7, 1)\n",
        "\n",
        "        self.m = nn.Sigmoid()\n",
        "        \n",
        "    def forward(self,x):\n",
        "        x = self.block1(x)\n",
        "        x = self.block2(x)\n",
        "        x = self.block3(x)\n",
        "        x = self.block4(x)\n",
        "        x = self.block5(x)\n",
        "        x = self.avgpool(x)\n",
        "        x = x.view(x.size(0),-1)\n",
        "        x = self.fc3(x)\n",
        "        x = self.fc4(x)\n",
        "        out = self.m(x)\n",
        "        return out"
      ]
    },
    {
      "cell_type": "code",
      "execution_count": null,
      "metadata": {},
      "outputs": [],
      "source": [
        "device = torch.device(\"cuda:0\" if torch.cuda.is_available() else \"cpu\")\n",
        "model = ResNet18().to(device)\n"
      ]
    },
    {
      "cell_type": "code",
      "execution_count": null,
      "metadata": {},
      "outputs": [],
      "source": [
        "%pip install torchsummary\n",
        "from torchsummary import summary\n",
        "summary(model, (1, 64, 64))"
      ]
    },
    {
      "cell_type": "code",
      "execution_count": 13,
      "metadata": {
        "id": "59mapnfM65Dn"
      },
      "outputs": [],
      "source": [
        "# ~~~~~~~~~~~~~~~ TRAIN MODEL ~~~~~~~~~~~~~~~\n",
        "def train_model(X_train, X_rem, y_train, y_rem, X_valid, X_test, y_valid, y_test, n_classes, model_name):\n",
        "  class_weight={}\n",
        "\n",
        "  model = ResNet18().to(device)\n",
        "  optimizer = torch.optim.Adam(model.parameters(), lr=0.1, decay=0.5, )\n",
        "  #scheduler = torch.optim.lr_scheduler.CyclicLR(optimizer, base_lr=1e-4, max_lr=0.05)\n",
        "  criterion = nn.CrossEntropyLoss()\n",
        "  batch_size=32\n",
        "\n",
        "  model.summary()\n",
        "  model.compile(loss=criterion,  optimizer=optimizer,  metrics=['accuracy'])\n",
        "\n",
        "  earlyStopCallback = EarlyStopping(monitor='val_loss', min_delta=0, patience=9,  mode='auto')\n",
        "  saveBestCallback = ModelCheckpoint(model_name+'weights_only_checkpoint.h5',monitor='val_loss', verbose=1, save_best_only=True, save_weights_only=True, mode='auto', period=1)\n",
        "  reduceLR =ReduceLROnPlateau(monitor = 'val_loss',factor = 0.5,patience = 3,verbose=1,min_lr = 0.00001)\n",
        "  history = model.fit(X_train, y_train,validation_data=(X_valid, y_valid),epochs=20, batch_size=batch_size, verbose=1, \n",
        "                      callbacks=[saveBestCallback,earlyStopCallback,reduceLR]) #class_weight=class_weight\n",
        "\n",
        "  \n",
        "  return model\n",
        "\n",
        "# ~~~~~~~~~~~~~~~ CALCULATE TEST ACCURACY ~~~~~~~~~~~~~~~\n",
        "def get_test_acc(model, X_test, y_test):\n",
        "  score = model.evaluate(X_test, y_test, verbose = 0) \n",
        "\n",
        "  print('Test loss:', score[0]) \n",
        "  print('Test accuracy:', score[1])\n",
        "  print()\n",
        "  print(\"For reference, Attia model reports 83.3% test accuracy.\")\n",
        "  return score[1]\n",
        "\n",
        "# ~~~~~~~~~~~~~~~ SAVE MODEL ~~~~~~~~~~~~~~~\n",
        "def save_model(model, name):\n",
        "  model.save(name)\n",
        "  print(\"Saved model to \", name)"
      ]
    }
  ],
  "metadata": {
    "colab": {
      "gpuType": "V100",
      "machine_shape": "hm",
      "provenance": []
    },
    "kernelspec": {
      "display_name": "Python 3",
      "name": "python3"
    },
    "language_info": {
      "name": "python"
    }
  },
  "nbformat": 4,
  "nbformat_minor": 0
}
