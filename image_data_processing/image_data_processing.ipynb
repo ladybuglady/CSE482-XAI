{
 "cells": [
  {
   "cell_type": "code",
   "execution_count": 1,
   "metadata": {},
   "outputs": [
    {
     "name": "stderr",
     "output_type": "stream",
     "text": [
      "2023-06-02 16:52:30.706687: I tensorflow/core/platform/cpu_feature_guard.cc:182] This TensorFlow binary is optimized to use available CPU instructions in performance-critical operations.\n",
      "To enable the following instructions: AVX2 FMA, in other operations, rebuild TensorFlow with the appropriate compiler flags.\n",
      "2023-06-02 16:52:32.788372: W tensorflow/compiler/tf2tensorrt/utils/py_utils.cc:38] TF-TRT Warning: Could not find TensorRT\n"
     ]
    }
   ],
   "source": [
    "from collections import Counter\n",
    "import numpy as np\n",
    "import keras\n",
    "from keras.callbacks import ModelCheckpoint,EarlyStopping,ReduceLROnPlateau\n",
    "from keras.models import Sequential,Model\n",
    "from keras.layers import concatenate,Activation,Dropout,Dense,ZeroPadding2D\n",
    "from keras.layers import Input,add,Conv2D, MaxPooling2D,Flatten,BatchNormalization,LSTM\n",
    "import os\n",
    "import zipfile\n",
    "import pandas as pd\n",
    "from sklearn.model_selection import train_test_split\n",
    "from pandas import *\n",
    "import json\n",
    "import os\n",
    "from keras.utils import to_categorical\n",
    "import argparse\n",
    "import time\n",
    "import random\n",
    "import numpy_indexed as npi\n",
    "from numpy.random import default_rng\n",
    "from matplotlib import pyplot as plt\n",
    "\n",
    "from scipy import signal\n",
    "import matplotlib as mpl\n",
    "import matplotlib.pyplot as plt\n",
    "import requests  # pip install requests\n",
    "%matplotlib inline"
   ]
  },
  {
   "attachments": {},
   "cell_type": "markdown",
   "metadata": {},
   "source": [
    "# Code to turn the ECG data into image data "
   ]
  },
  {
   "cell_type": "code",
   "execution_count": 3,
   "metadata": {},
   "outputs": [],
   "source": [
    "# Make images, source and destination file\n",
    "\n",
    "def make_plot_images(ecgs, dest):\n",
    "\n",
    "    for ecg in ecgs:\n",
    "        fig, axes = plt.subplots(2, 1, sharex=True, sharey=True, figsize=(50,4))\n",
    "        sns.lineplot(ecg[0], ax=axes[0], linewidth = 0.5).set(ylim=[-2,2])\n",
    "        sns.lineplot(ecg[1], ax=axes[1], color='orange', linewidth = 0.5).set(ylim=[-2,2])\n",
    "        plt.tight_layout()\n",
    "        plt.savefig(dest, dpi=300) #DEST SHOULD BE LOCAL1\n",
    "\n",
    "\n",
    "        \"\"\" batchsize = 400\n",
    "        images = []\n",
    "\n",
    "        i = 0\n",
    "        for ecg in ecgs:\n",
    "            # from frequency values of -2 to 2. 4-decimal point vals in between. So thats like going from -2000 to 2000.\n",
    "            batch = np.zeros((batchsize, 2, 5000, 4000)) # 4000 pixels per time\n",
    "            \n",
    "            i += batchsize\"\"\""
   ]
  },
  {
   "cell_type": "code",
   "execution_count": 5,
   "metadata": {},
   "outputs": [],
   "source": [
    "def make_spectro_images(ecgs, dest):\n",
    "    for ecg in ecgs[:10]:\n",
    "        print(ecg.shape)\n",
    "        # flatten the ecg\n",
    "        ecg = ecg.flatten()\n",
    "        print(ecg.shape)\n",
    "        \n",
    "        fig, ax = plt.subplots() \n",
    "        ax.set_ylim(0,0.5)\n",
    "        f, t, Sxx = signal.spectrogram(ecg)\n",
    "        pc = ax.pcolormesh(t, f, Sxx, norm=mpl.colors.LogNorm(vmin=10e-10, vmax=100), cmap='gray')\n",
    "        plt.show()\n",
    "        plt.savefig(dest, dpi=300)\n",
    "        \n",
    "\n",
    "\n",
    "\n",
    "        \"\"\"fig, axes = plt.subplots(2, 1, sharex=True, sharey=True, figsize=(50,4))\n",
    "        sns.lineplot(ecg[0], ax=axes[0], linewidth = 0.5).set(ylim=[-2,2])\n",
    "        sns.lineplot(ecg[1], ax=axes[1], color='orange', linewidth = 0.5).set(ylim=[-2,2])\n",
    "        plt.tight_layout()\n",
    "        plt.savefig(dest, dpi=300) #DEST SHOULD BE LOCAL1\"\"\"\n",
    "    "
   ]
  },
  {
   "cell_type": "code",
   "execution_count": 6,
   "metadata": {},
   "outputs": [
    {
     "name": "stdout",
     "output_type": "stream",
     "text": [
      "Retrieved files:  0\n",
      "(2, 5000)\n",
      "(10000,)\n"
     ]
    },
    {
     "data": {
      "image/png": "[encoded data removed]",
      "text/plain": [
       "<Figure size 640x480 with 1 Axes>"
      ]
     },
     "metadata": {},
     "output_type": "display_data"
    },
    {
     "data": {
      "text/plain": [
       "<Figure size 640x480 with 0 Axes>"
      ]
     },
     "metadata": {},
     "output_type": "display_data"
    }
   ],
   "source": [
    "size = 1 # do 300,000\n",
    "\n",
    "def get_ecgs(ecg_filenames):\n",
    "    X = np.zeros((size, 2, 5000))\n",
    "    counter = 0\n",
    "    for file in ecg_filenames:\n",
    "        if counter %1000 == 0:\n",
    "            print(\"Retrieved files: \", counter)\n",
    "        patient_X = np.empty((2, 5000))\n",
    "\n",
    "        try:\n",
    "            jsonFile = open(afib_path + file, 'r')\n",
    "        except:\n",
    "            jsonFile = open(control_path + file, 'r')\n",
    "\n",
    "        fileContents = json.load(jsonFile)\n",
    "\n",
    "        # digging into the dictionaries to get lead data\n",
    "        lead_1_samples = fileContents['samples']\n",
    "        lead_2_samples = fileContents['extraLeads'][0]['samples']\n",
    "\n",
    "        # Crop the data to 5000 data points.\n",
    "        patient_X[0,:] = lead_1_samples[0:5000]\n",
    "        patient_X[1,:] = lead_2_samples[0:5000]\n",
    "\n",
    "        X[counter] = patient_X\n",
    "        counter += 1\n",
    "        jsonFile.close()\n",
    "    return X\n",
    "\n",
    "afib_path =  '../../../../../../../local1/CSE_XAI/study60_recordings_json/'\n",
    "control_path = '../../../../../../../local1/CSE_XAI/control_small/'\n",
    "\n",
    "refs = pd.read_csv(\"../Copy of study60_patient_recordings.csv\")\n",
    "sr_episodes = refs[refs[\"determination\"]==\"Sinus Rhythm\"][\"recording_public_id\"]\n",
    "\n",
    "afib_recordings = random.sample(list(sr_episodes), size)\n",
    "afib_recordings = np.array(list(map(lambda s: s+\"_raw.json\", afib_recordings)))\n",
    "afib_ecgs =  np.asarray(os.listdir(afib_path))\n",
    "afib_ecgs = afib_ecgs[npi.indices(afib_ecgs, afib_recordings)]\n",
    "afib_ecgs = get_ecgs(afib_ecgs)\n",
    "\n",
    "\n",
    "make_spectro_images(afib_ecgs, \"afib_spec\")"
   ]
  }
 ],
 "metadata": {
  "kernelspec": {
   "display_name": "momo",
   "language": "python",
   "name": "python3"
  },
  "language_info": {
   "codemirror_mode": {
    "name": "ipython",
    "version": 3
   },
   "file_extension": ".py",
   "mimetype": "text/x-python",
   "name": "python",
   "nbconvert_exporter": "python",
   "pygments_lexer": "ipython3",
   "version": "3.9.16"
  },
  "orig_nbformat": 4
 },
 "nbformat": 4,
 "nbformat_minor": 2
}
